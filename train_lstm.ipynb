{
 "cells": [
  {
   "cell_type": "markdown",
   "id": "770c41c8",
   "metadata": {},
   "source": [
    "# Load data"
   ]
  },
  {
   "cell_type": "code",
   "execution_count": 125,
   "id": "cca0db11",
   "metadata": {},
   "outputs": [],
   "source": [
    "import MetaTrader5 as mt\n",
    "import pandas as pd\n",
    "import plotly.express as px\n",
    "from datetime import datetime"
   ]
  },
  {
   "cell_type": "code",
   "execution_count": 126,
   "id": "8676caea",
   "metadata": {},
   "outputs": [
    {
     "data": {
      "text/plain": [
       "True"
      ]
     },
     "execution_count": 126,
     "metadata": {},
     "output_type": "execute_result"
    }
   ],
   "source": [
    "mt.initialize()"
   ]
  },
  {
   "cell_type": "code",
   "execution_count": 127,
   "id": "de73d4f2",
   "metadata": {},
   "outputs": [
    {
     "data": {
      "text/plain": [
       "True"
      ]
     },
     "execution_count": 127,
     "metadata": {},
     "output_type": "execute_result"
    }
   ],
   "source": [
    "login = 5005199849\n",
    "password = \"gyyekbo4\"\n",
    "server = \"MetaQuotes-Demo\"\n",
    "\n",
    "mt.login(login, password, server)"
   ]
  },
  {
   "cell_type": "code",
   "execution_count": 128,
   "id": "b9d8b6bb",
   "metadata": {},
   "outputs": [
    {
     "name": "stdout",
     "output_type": "stream",
     "text": [
      "AccountInfo(login=5005199849, trade_mode=0, leverage=100, limit_orders=200, margin_so_mode=0, trade_allowed=True, trade_expert=True, margin_mode=2, currency_digits=2, fifo_close=False, balance=100000.0, credit=0.0, profit=0.0, equity=100000.0, margin=0.0, margin_free=100000.0, margin_level=0.0, margin_so_call=50.0, margin_so_so=30.0, margin_initial=0.0, margin_maintenance=0.0, assets=0.0, liabilities=0.0, commission_blocked=0.0, name='abc abc', server='MetaQuotes-Demo', currency='USD', company='MetaQuotes Software Corp.')\n"
     ]
    }
   ],
   "source": [
    "account_info = mt.account_info()\n",
    "print(account_info)"
   ]
  },
  {
   "cell_type": "code",
   "execution_count": 129,
   "id": "7b388ad3",
   "metadata": {},
   "outputs": [],
   "source": [
    "data1 = pd.DataFrame(mt.copy_rates_range(\"EURUSD\",mt.TIMEFRAME_D1,datetime(2022,1,1), datetime.now()))\n",
    "data2 = pd.DataFrame(mt.copy_rates_range(\"GBPUSD\",mt.TIMEFRAME_D1,datetime(2022,1,1), datetime.now()))\n",
    "data3 = pd.DataFrame(mt.copy_rates_range(\"USDCHF\",mt.TIMEFRAME_D1,datetime(2022,1,1), datetime.now()))"
   ]
  },
  {
   "cell_type": "code",
   "execution_count": 130,
   "id": "81982edf",
   "metadata": {},
   "outputs": [
    {
     "data": {
      "application/vnd.plotly.v1+json": {
       "config": {
        "plotlyServerURL": "https://plot.ly"
       },
       "data": [
        {
         "hovertemplate": "time=%{x}<br>close=%{y}<extra></extra>",
         "legendgroup": "",
         "line": {
          "color": "#636efa",
          "dash": "solid"
         },
         "marker": {
          "symbol": "circle"
         },
         "mode": "lines",
         "name": "",
         "orientation": "v",
         "showlegend": false,
         "type": "scatter",
         "x": [
          1641168000,
          1641254400,
          1641340800,
          1641427200,
          1641513600,
          1641772800,
          1641859200,
          1641945600,
          1642032000,
          1642118400,
          1642377600,
          1642464000,
          1642550400,
          1642636800,
          1642723200,
          1642982400,
          1643068800,
          1643155200,
          1643241600,
          1643328000,
          1643587200,
          1643673600,
          1643760000,
          1643846400,
          1643932800,
          1644192000,
          1644278400,
          1644364800,
          1644451200,
          1644537600,
          1644796800,
          1644883200,
          1644969600,
          1645056000,
          1645142400,
          1645401600,
          1645488000,
          1645574400,
          1645660800,
          1645747200,
          1646006400,
          1646092800,
          1646179200,
          1646265600,
          1646352000,
          1646611200,
          1646697600,
          1646784000,
          1646870400,
          1646956800,
          1647216000,
          1647302400,
          1647388800,
          1647475200,
          1647561600,
          1647820800,
          1647907200,
          1647993600,
          1648080000,
          1648166400,
          1648425600,
          1648512000,
          1648598400,
          1648684800,
          1648771200,
          1649030400,
          1649116800,
          1649203200,
          1649289600,
          1649376000,
          1649635200,
          1649721600,
          1649808000,
          1649894400,
          1649980800,
          1650240000,
          1650326400,
          1650412800,
          1650499200,
          1650585600,
          1650844800,
          1650931200,
          1651017600,
          1651104000,
          1651190400,
          1651449600,
          1651536000,
          1651622400,
          1651708800,
          1651795200,
          1652054400,
          1652140800,
          1652227200,
          1652313600,
          1652400000,
          1652659200,
          1652745600,
          1652832000,
          1652918400,
          1653004800,
          1653264000,
          1653350400,
          1653436800,
          1653523200,
          1653609600,
          1653868800,
          1653955200,
          1654041600,
          1654128000,
          1654214400,
          1654473600,
          1654560000,
          1654646400,
          1654732800,
          1654819200,
          1655078400,
          1655164800,
          1655251200,
          1655337600,
          1655424000,
          1655683200,
          1655769600,
          1655856000,
          1655942400,
          1656028800,
          1656288000,
          1656374400,
          1656460800,
          1656547200,
          1656633600,
          1656892800,
          1656979200,
          1657065600,
          1657152000,
          1657238400,
          1657497600,
          1657584000,
          1657670400,
          1657756800,
          1657843200,
          1658102400,
          1658188800,
          1658275200,
          1658361600,
          1658448000,
          1658707200,
          1658793600,
          1658880000,
          1658966400
         ],
         "xaxis": "x",
         "y": [
          1.12971,
          1.12862,
          1.13135,
          1.12976,
          1.1359,
          1.13252,
          1.13666,
          1.14411,
          1.14539,
          1.14151,
          1.14062,
          1.13258,
          1.1342,
          1.13108,
          1.13421,
          1.13254,
          1.13006,
          1.12405,
          1.11444,
          1.11469,
          1.12333,
          1.12718,
          1.13035,
          1.14392,
          1.14514,
          1.14419,
          1.14163,
          1.14233,
          1.14275,
          1.13477,
          1.13058,
          1.13582,
          1.1372200000000001,
          1.13608,
          1.13227,
          1.13093,
          1.13241,
          1.13051,
          1.11919,
          1.12716,
          1.12178,
          1.11229,
          1.11184,
          1.10659,
          1.09305,
          1.08533,
          1.0901399999999999,
          1.1075,
          1.09859,
          1.09137,
          1.09447,
          1.09489,
          1.1031,
          1.10901,
          1.10503,
          1.10188,
          1.10294,
          1.10066,
          1.09982,
          1.09854,
          1.09859,
          1.10858,
          1.11575,
          1.10665,
          1.10447,
          1.09715,
          1.09041,
          1.08956,
          1.08777,
          1.08747,
          1.08829,
          1.08269,
          1.08902,
          1.08286,
          1.08113,
          1.0781,
          1.07877,
          1.08539,
          1.08336,
          1.08009,
          1.07125,
          1.06372,
          1.05573,
          1.04983,
          1.0546,
          1.05072,
          1.05202,
          1.06219,
          1.0541,
          1.05439,
          1.0557,
          1.05281,
          1.05092,
          1.03779,
          1.04077,
          1.04311,
          1.05465,
          1.04609,
          1.05854,
          1.05582,
          1.06881,
          1.07333,
          1.0679,
          1.07239,
          1.07309,
          1.0778,
          1.07326,
          1.06484,
          1.07463,
          1.07165,
          1.06955,
          1.07049,
          1.07157,
          1.06159,
          1.05207,
          1.04076,
          1.04151,
          1.0443,
          1.05483,
          1.04962,
          1.05104,
          1.05318,
          1.05678,
          1.05215,
          1.05534,
          1.05829,
          1.0518,
          1.04411,
          1.04827,
          1.04261,
          1.04221,
          1.02656,
          1.0181,
          1.01587,
          1.01831,
          1.00396,
          1.00365,
          1.00574,
          1.00178,
          1.00854,
          1.01418,
          1.02247,
          1.01803,
          1.023,
          1.02109,
          1.02188,
          1.01155,
          1.01975,
          1.02259
         ],
         "yaxis": "y"
        }
       ],
       "layout": {
        "legend": {
         "tracegroupgap": 0
        },
        "margin": {
         "t": 60
        },
        "template": {
         "data": {
          "bar": [
           {
            "error_x": {
             "color": "#2a3f5f"
            },
            "error_y": {
             "color": "#2a3f5f"
            },
            "marker": {
             "line": {
              "color": "#E5ECF6",
              "width": 0.5
             },
             "pattern": {
              "fillmode": "overlay",
              "size": 10,
              "solidity": 0.2
             }
            },
            "type": "bar"
           }
          ],
          "barpolar": [
           {
            "marker": {
             "line": {
              "color": "#E5ECF6",
              "width": 0.5
             },
             "pattern": {
              "fillmode": "overlay",
              "size": 10,
              "solidity": 0.2
             }
            },
            "type": "barpolar"
           }
          ],
          "carpet": [
           {
            "aaxis": {
             "endlinecolor": "#2a3f5f",
             "gridcolor": "white",
             "linecolor": "white",
             "minorgridcolor": "white",
             "startlinecolor": "#2a3f5f"
            },
            "baxis": {
             "endlinecolor": "#2a3f5f",
             "gridcolor": "white",
             "linecolor": "white",
             "minorgridcolor": "white",
             "startlinecolor": "#2a3f5f"
            },
            "type": "carpet"
           }
          ],
          "choropleth": [
           {
            "colorbar": {
             "outlinewidth": 0,
             "ticks": ""
            },
            "type": "choropleth"
           }
          ],
          "contour": [
           {
            "colorbar": {
             "outlinewidth": 0,
             "ticks": ""
            },
            "colorscale": [
             [
              0,
              "#0d0887"
             ],
             [
              0.1111111111111111,
              "#46039f"
             ],
             [
              0.2222222222222222,
              "#7201a8"
             ],
             [
              0.3333333333333333,
              "#9c179e"
             ],
             [
              0.4444444444444444,
              "#bd3786"
             ],
             [
              0.5555555555555556,
              "#d8576b"
             ],
             [
              0.6666666666666666,
              "#ed7953"
             ],
             [
              0.7777777777777778,
              "#fb9f3a"
             ],
             [
              0.8888888888888888,
              "#fdca26"
             ],
             [
              1,
              "#f0f921"
             ]
            ],
            "type": "contour"
           }
          ],
          "contourcarpet": [
           {
            "colorbar": {
             "outlinewidth": 0,
             "ticks": ""
            },
            "type": "contourcarpet"
           }
          ],
          "heatmap": [
           {
            "colorbar": {
             "outlinewidth": 0,
             "ticks": ""
            },
            "colorscale": [
             [
              0,
              "#0d0887"
             ],
             [
              0.1111111111111111,
              "#46039f"
             ],
             [
              0.2222222222222222,
              "#7201a8"
             ],
             [
              0.3333333333333333,
              "#9c179e"
             ],
             [
              0.4444444444444444,
              "#bd3786"
             ],
             [
              0.5555555555555556,
              "#d8576b"
             ],
             [
              0.6666666666666666,
              "#ed7953"
             ],
             [
              0.7777777777777778,
              "#fb9f3a"
             ],
             [
              0.8888888888888888,
              "#fdca26"
             ],
             [
              1,
              "#f0f921"
             ]
            ],
            "type": "heatmap"
           }
          ],
          "heatmapgl": [
           {
            "colorbar": {
             "outlinewidth": 0,
             "ticks": ""
            },
            "colorscale": [
             [
              0,
              "#0d0887"
             ],
             [
              0.1111111111111111,
              "#46039f"
             ],
             [
              0.2222222222222222,
              "#7201a8"
             ],
             [
              0.3333333333333333,
              "#9c179e"
             ],
             [
              0.4444444444444444,
              "#bd3786"
             ],
             [
              0.5555555555555556,
              "#d8576b"
             ],
             [
              0.6666666666666666,
              "#ed7953"
             ],
             [
              0.7777777777777778,
              "#fb9f3a"
             ],
             [
              0.8888888888888888,
              "#fdca26"
             ],
             [
              1,
              "#f0f921"
             ]
            ],
            "type": "heatmapgl"
           }
          ],
          "histogram": [
           {
            "marker": {
             "pattern": {
              "fillmode": "overlay",
              "size": 10,
              "solidity": 0.2
             }
            },
            "type": "histogram"
           }
          ],
          "histogram2d": [
           {
            "colorbar": {
             "outlinewidth": 0,
             "ticks": ""
            },
            "colorscale": [
             [
              0,
              "#0d0887"
             ],
             [
              0.1111111111111111,
              "#46039f"
             ],
             [
              0.2222222222222222,
              "#7201a8"
             ],
             [
              0.3333333333333333,
              "#9c179e"
             ],
             [
              0.4444444444444444,
              "#bd3786"
             ],
             [
              0.5555555555555556,
              "#d8576b"
             ],
             [
              0.6666666666666666,
              "#ed7953"
             ],
             [
              0.7777777777777778,
              "#fb9f3a"
             ],
             [
              0.8888888888888888,
              "#fdca26"
             ],
             [
              1,
              "#f0f921"
             ]
            ],
            "type": "histogram2d"
           }
          ],
          "histogram2dcontour": [
           {
            "colorbar": {
             "outlinewidth": 0,
             "ticks": ""
            },
            "colorscale": [
             [
              0,
              "#0d0887"
             ],
             [
              0.1111111111111111,
              "#46039f"
             ],
             [
              0.2222222222222222,
              "#7201a8"
             ],
             [
              0.3333333333333333,
              "#9c179e"
             ],
             [
              0.4444444444444444,
              "#bd3786"
             ],
             [
              0.5555555555555556,
              "#d8576b"
             ],
             [
              0.6666666666666666,
              "#ed7953"
             ],
             [
              0.7777777777777778,
              "#fb9f3a"
             ],
             [
              0.8888888888888888,
              "#fdca26"
             ],
             [
              1,
              "#f0f921"
             ]
            ],
            "type": "histogram2dcontour"
           }
          ],
          "mesh3d": [
           {
            "colorbar": {
             "outlinewidth": 0,
             "ticks": ""
            },
            "type": "mesh3d"
           }
          ],
          "parcoords": [
           {
            "line": {
             "colorbar": {
              "outlinewidth": 0,
              "ticks": ""
             }
            },
            "type": "parcoords"
           }
          ],
          "pie": [
           {
            "automargin": true,
            "type": "pie"
           }
          ],
          "scatter": [
           {
            "marker": {
             "colorbar": {
              "outlinewidth": 0,
              "ticks": ""
             }
            },
            "type": "scatter"
           }
          ],
          "scatter3d": [
           {
            "line": {
             "colorbar": {
              "outlinewidth": 0,
              "ticks": ""
             }
            },
            "marker": {
             "colorbar": {
              "outlinewidth": 0,
              "ticks": ""
             }
            },
            "type": "scatter3d"
           }
          ],
          "scattercarpet": [
           {
            "marker": {
             "colorbar": {
              "outlinewidth": 0,
              "ticks": ""
             }
            },
            "type": "scattercarpet"
           }
          ],
          "scattergeo": [
           {
            "marker": {
             "colorbar": {
              "outlinewidth": 0,
              "ticks": ""
             }
            },
            "type": "scattergeo"
           }
          ],
          "scattergl": [
           {
            "marker": {
             "colorbar": {
              "outlinewidth": 0,
              "ticks": ""
             }
            },
            "type": "scattergl"
           }
          ],
          "scattermapbox": [
           {
            "marker": {
             "colorbar": {
              "outlinewidth": 0,
              "ticks": ""
             }
            },
            "type": "scattermapbox"
           }
          ],
          "scatterpolar": [
           {
            "marker": {
             "colorbar": {
              "outlinewidth": 0,
              "ticks": ""
             }
            },
            "type": "scatterpolar"
           }
          ],
          "scatterpolargl": [
           {
            "marker": {
             "colorbar": {
              "outlinewidth": 0,
              "ticks": ""
             }
            },
            "type": "scatterpolargl"
           }
          ],
          "scatterternary": [
           {
            "marker": {
             "colorbar": {
              "outlinewidth": 0,
              "ticks": ""
             }
            },
            "type": "scatterternary"
           }
          ],
          "surface": [
           {
            "colorbar": {
             "outlinewidth": 0,
             "ticks": ""
            },
            "colorscale": [
             [
              0,
              "#0d0887"
             ],
             [
              0.1111111111111111,
              "#46039f"
             ],
             [
              0.2222222222222222,
              "#7201a8"
             ],
             [
              0.3333333333333333,
              "#9c179e"
             ],
             [
              0.4444444444444444,
              "#bd3786"
             ],
             [
              0.5555555555555556,
              "#d8576b"
             ],
             [
              0.6666666666666666,
              "#ed7953"
             ],
             [
              0.7777777777777778,
              "#fb9f3a"
             ],
             [
              0.8888888888888888,
              "#fdca26"
             ],
             [
              1,
              "#f0f921"
             ]
            ],
            "type": "surface"
           }
          ],
          "table": [
           {
            "cells": {
             "fill": {
              "color": "#EBF0F8"
             },
             "line": {
              "color": "white"
             }
            },
            "header": {
             "fill": {
              "color": "#C8D4E3"
             },
             "line": {
              "color": "white"
             }
            },
            "type": "table"
           }
          ]
         },
         "layout": {
          "annotationdefaults": {
           "arrowcolor": "#2a3f5f",
           "arrowhead": 0,
           "arrowwidth": 1
          },
          "autotypenumbers": "strict",
          "coloraxis": {
           "colorbar": {
            "outlinewidth": 0,
            "ticks": ""
           }
          },
          "colorscale": {
           "diverging": [
            [
             0,
             "#8e0152"
            ],
            [
             0.1,
             "#c51b7d"
            ],
            [
             0.2,
             "#de77ae"
            ],
            [
             0.3,
             "#f1b6da"
            ],
            [
             0.4,
             "#fde0ef"
            ],
            [
             0.5,
             "#f7f7f7"
            ],
            [
             0.6,
             "#e6f5d0"
            ],
            [
             0.7,
             "#b8e186"
            ],
            [
             0.8,
             "#7fbc41"
            ],
            [
             0.9,
             "#4d9221"
            ],
            [
             1,
             "#276419"
            ]
           ],
           "sequential": [
            [
             0,
             "#0d0887"
            ],
            [
             0.1111111111111111,
             "#46039f"
            ],
            [
             0.2222222222222222,
             "#7201a8"
            ],
            [
             0.3333333333333333,
             "#9c179e"
            ],
            [
             0.4444444444444444,
             "#bd3786"
            ],
            [
             0.5555555555555556,
             "#d8576b"
            ],
            [
             0.6666666666666666,
             "#ed7953"
            ],
            [
             0.7777777777777778,
             "#fb9f3a"
            ],
            [
             0.8888888888888888,
             "#fdca26"
            ],
            [
             1,
             "#f0f921"
            ]
           ],
           "sequentialminus": [
            [
             0,
             "#0d0887"
            ],
            [
             0.1111111111111111,
             "#46039f"
            ],
            [
             0.2222222222222222,
             "#7201a8"
            ],
            [
             0.3333333333333333,
             "#9c179e"
            ],
            [
             0.4444444444444444,
             "#bd3786"
            ],
            [
             0.5555555555555556,
             "#d8576b"
            ],
            [
             0.6666666666666666,
             "#ed7953"
            ],
            [
             0.7777777777777778,
             "#fb9f3a"
            ],
            [
             0.8888888888888888,
             "#fdca26"
            ],
            [
             1,
             "#f0f921"
            ]
           ]
          },
          "colorway": [
           "#636efa",
           "#EF553B",
           "#00cc96",
           "#ab63fa",
           "#FFA15A",
           "#19d3f3",
           "#FF6692",
           "#B6E880",
           "#FF97FF",
           "#FECB52"
          ],
          "font": {
           "color": "#2a3f5f"
          },
          "geo": {
           "bgcolor": "white",
           "lakecolor": "white",
           "landcolor": "#E5ECF6",
           "showlakes": true,
           "showland": true,
           "subunitcolor": "white"
          },
          "hoverlabel": {
           "align": "left"
          },
          "hovermode": "closest",
          "mapbox": {
           "style": "light"
          },
          "paper_bgcolor": "white",
          "plot_bgcolor": "#E5ECF6",
          "polar": {
           "angularaxis": {
            "gridcolor": "white",
            "linecolor": "white",
            "ticks": ""
           },
           "bgcolor": "#E5ECF6",
           "radialaxis": {
            "gridcolor": "white",
            "linecolor": "white",
            "ticks": ""
           }
          },
          "scene": {
           "xaxis": {
            "backgroundcolor": "#E5ECF6",
            "gridcolor": "white",
            "gridwidth": 2,
            "linecolor": "white",
            "showbackground": true,
            "ticks": "",
            "zerolinecolor": "white"
           },
           "yaxis": {
            "backgroundcolor": "#E5ECF6",
            "gridcolor": "white",
            "gridwidth": 2,
            "linecolor": "white",
            "showbackground": true,
            "ticks": "",
            "zerolinecolor": "white"
           },
           "zaxis": {
            "backgroundcolor": "#E5ECF6",
            "gridcolor": "white",
            "gridwidth": 2,
            "linecolor": "white",
            "showbackground": true,
            "ticks": "",
            "zerolinecolor": "white"
           }
          },
          "shapedefaults": {
           "line": {
            "color": "#2a3f5f"
           }
          },
          "ternary": {
           "aaxis": {
            "gridcolor": "white",
            "linecolor": "white",
            "ticks": ""
           },
           "baxis": {
            "gridcolor": "white",
            "linecolor": "white",
            "ticks": ""
           },
           "bgcolor": "#E5ECF6",
           "caxis": {
            "gridcolor": "white",
            "linecolor": "white",
            "ticks": ""
           }
          },
          "title": {
           "x": 0.05
          },
          "xaxis": {
           "automargin": true,
           "gridcolor": "white",
           "linecolor": "white",
           "ticks": "",
           "title": {
            "standoff": 15
           },
           "zerolinecolor": "white",
           "zerolinewidth": 2
          },
          "yaxis": {
           "automargin": true,
           "gridcolor": "white",
           "linecolor": "white",
           "ticks": "",
           "title": {
            "standoff": 15
           },
           "zerolinecolor": "white",
           "zerolinewidth": 2
          }
         }
        },
        "xaxis": {
         "anchor": "y",
         "domain": [
          0,
          1
         ],
         "title": {
          "text": "time"
         }
        },
        "yaxis": {
         "anchor": "x",
         "domain": [
          0,
          1
         ],
         "title": {
          "text": "close"
         }
        }
       }
      },
      "text/html": [
       "<div>                            <div id=\"de3de2d0-80d4-4d0c-bd1a-30175d0826f3\" class=\"plotly-graph-div\" style=\"height:525px; width:100%;\"></div>            <script type=\"text/javascript\">                require([\"plotly\"], function(Plotly) {                    window.PLOTLYENV=window.PLOTLYENV || {};                                    if (document.getElementById(\"de3de2d0-80d4-4d0c-bd1a-30175d0826f3\")) {                    Plotly.newPlot(                        \"de3de2d0-80d4-4d0c-bd1a-30175d0826f3\",                        [{\"hovertemplate\":\"time=%{x}<br>close=%{y}<extra></extra>\",\"legendgroup\":\"\",\"line\":{\"color\":\"#636efa\",\"dash\":\"solid\"},\"marker\":{\"symbol\":\"circle\"},\"mode\":\"lines\",\"name\":\"\",\"orientation\":\"v\",\"showlegend\":false,\"x\":[1641168000,1641254400,1641340800,1641427200,1641513600,1641772800,1641859200,1641945600,1642032000,1642118400,1642377600,1642464000,1642550400,1642636800,1642723200,1642982400,1643068800,1643155200,1643241600,1643328000,1643587200,1643673600,1643760000,1643846400,1643932800,1644192000,1644278400,1644364800,1644451200,1644537600,1644796800,1644883200,1644969600,1645056000,1645142400,1645401600,1645488000,1645574400,1645660800,1645747200,1646006400,1646092800,1646179200,1646265600,1646352000,1646611200,1646697600,1646784000,1646870400,1646956800,1647216000,1647302400,1647388800,1647475200,1647561600,1647820800,1647907200,1647993600,1648080000,1648166400,1648425600,1648512000,1648598400,1648684800,1648771200,1649030400,1649116800,1649203200,1649289600,1649376000,1649635200,1649721600,1649808000,1649894400,1649980800,1650240000,1650326400,1650412800,1650499200,1650585600,1650844800,1650931200,1651017600,1651104000,1651190400,1651449600,1651536000,1651622400,1651708800,1651795200,1652054400,1652140800,1652227200,1652313600,1652400000,1652659200,1652745600,1652832000,1652918400,1653004800,1653264000,1653350400,1653436800,1653523200,1653609600,1653868800,1653955200,1654041600,1654128000,1654214400,1654473600,1654560000,1654646400,1654732800,1654819200,1655078400,1655164800,1655251200,1655337600,1655424000,1655683200,1655769600,1655856000,1655942400,1656028800,1656288000,1656374400,1656460800,1656547200,1656633600,1656892800,1656979200,1657065600,1657152000,1657238400,1657497600,1657584000,1657670400,1657756800,1657843200,1658102400,1658188800,1658275200,1658361600,1658448000,1658707200,1658793600,1658880000,1658966400],\"xaxis\":\"x\",\"y\":[1.12971,1.12862,1.13135,1.12976,1.1359,1.13252,1.13666,1.14411,1.14539,1.14151,1.14062,1.13258,1.1342,1.13108,1.13421,1.13254,1.13006,1.12405,1.11444,1.11469,1.12333,1.12718,1.13035,1.14392,1.14514,1.14419,1.14163,1.14233,1.14275,1.13477,1.13058,1.13582,1.1372200000000001,1.13608,1.13227,1.13093,1.13241,1.13051,1.11919,1.12716,1.12178,1.11229,1.11184,1.10659,1.09305,1.08533,1.0901399999999999,1.1075,1.09859,1.09137,1.09447,1.09489,1.1031,1.10901,1.10503,1.10188,1.10294,1.10066,1.09982,1.09854,1.09859,1.10858,1.11575,1.10665,1.10447,1.09715,1.09041,1.08956,1.08777,1.08747,1.08829,1.08269,1.08902,1.08286,1.08113,1.0781,1.07877,1.08539,1.08336,1.08009,1.07125,1.06372,1.05573,1.04983,1.0546,1.05072,1.05202,1.06219,1.0541,1.05439,1.0557,1.05281,1.05092,1.03779,1.04077,1.04311,1.05465,1.04609,1.05854,1.05582,1.06881,1.07333,1.0679,1.07239,1.07309,1.0778,1.07326,1.06484,1.07463,1.07165,1.06955,1.07049,1.07157,1.06159,1.05207,1.04076,1.04151,1.0443,1.05483,1.04962,1.05104,1.05318,1.05678,1.05215,1.05534,1.05829,1.0518,1.04411,1.04827,1.04261,1.04221,1.02656,1.0181,1.01587,1.01831,1.00396,1.00365,1.00574,1.00178,1.00854,1.01418,1.02247,1.01803,1.023,1.02109,1.02188,1.01155,1.01975,1.02259],\"yaxis\":\"y\",\"type\":\"scatter\"}],                        {\"template\":{\"data\":{\"bar\":[{\"error_x\":{\"color\":\"#2a3f5f\"},\"error_y\":{\"color\":\"#2a3f5f\"},\"marker\":{\"line\":{\"color\":\"#E5ECF6\",\"width\":0.5},\"pattern\":{\"fillmode\":\"overlay\",\"size\":10,\"solidity\":0.2}},\"type\":\"bar\"}],\"barpolar\":[{\"marker\":{\"line\":{\"color\":\"#E5ECF6\",\"width\":0.5},\"pattern\":{\"fillmode\":\"overlay\",\"size\":10,\"solidity\":0.2}},\"type\":\"barpolar\"}],\"carpet\":[{\"aaxis\":{\"endlinecolor\":\"#2a3f5f\",\"gridcolor\":\"white\",\"linecolor\":\"white\",\"minorgridcolor\":\"white\",\"startlinecolor\":\"#2a3f5f\"},\"baxis\":{\"endlinecolor\":\"#2a3f5f\",\"gridcolor\":\"white\",\"linecolor\":\"white\",\"minorgridcolor\":\"white\",\"startlinecolor\":\"#2a3f5f\"},\"type\":\"carpet\"}],\"choropleth\":[{\"colorbar\":{\"outlinewidth\":0,\"ticks\":\"\"},\"type\":\"choropleth\"}],\"contour\":[{\"colorbar\":{\"outlinewidth\":0,\"ticks\":\"\"},\"colorscale\":[[0.0,\"#0d0887\"],[0.1111111111111111,\"#46039f\"],[0.2222222222222222,\"#7201a8\"],[0.3333333333333333,\"#9c179e\"],[0.4444444444444444,\"#bd3786\"],[0.5555555555555556,\"#d8576b\"],[0.6666666666666666,\"#ed7953\"],[0.7777777777777778,\"#fb9f3a\"],[0.8888888888888888,\"#fdca26\"],[1.0,\"#f0f921\"]],\"type\":\"contour\"}],\"contourcarpet\":[{\"colorbar\":{\"outlinewidth\":0,\"ticks\":\"\"},\"type\":\"contourcarpet\"}],\"heatmap\":[{\"colorbar\":{\"outlinewidth\":0,\"ticks\":\"\"},\"colorscale\":[[0.0,\"#0d0887\"],[0.1111111111111111,\"#46039f\"],[0.2222222222222222,\"#7201a8\"],[0.3333333333333333,\"#9c179e\"],[0.4444444444444444,\"#bd3786\"],[0.5555555555555556,\"#d8576b\"],[0.6666666666666666,\"#ed7953\"],[0.7777777777777778,\"#fb9f3a\"],[0.8888888888888888,\"#fdca26\"],[1.0,\"#f0f921\"]],\"type\":\"heatmap\"}],\"heatmapgl\":[{\"colorbar\":{\"outlinewidth\":0,\"ticks\":\"\"},\"colorscale\":[[0.0,\"#0d0887\"],[0.1111111111111111,\"#46039f\"],[0.2222222222222222,\"#7201a8\"],[0.3333333333333333,\"#9c179e\"],[0.4444444444444444,\"#bd3786\"],[0.5555555555555556,\"#d8576b\"],[0.6666666666666666,\"#ed7953\"],[0.7777777777777778,\"#fb9f3a\"],[0.8888888888888888,\"#fdca26\"],[1.0,\"#f0f921\"]],\"type\":\"heatmapgl\"}],\"histogram\":[{\"marker\":{\"pattern\":{\"fillmode\":\"overlay\",\"size\":10,\"solidity\":0.2}},\"type\":\"histogram\"}],\"histogram2d\":[{\"colorbar\":{\"outlinewidth\":0,\"ticks\":\"\"},\"colorscale\":[[0.0,\"#0d0887\"],[0.1111111111111111,\"#46039f\"],[0.2222222222222222,\"#7201a8\"],[0.3333333333333333,\"#9c179e\"],[0.4444444444444444,\"#bd3786\"],[0.5555555555555556,\"#d8576b\"],[0.6666666666666666,\"#ed7953\"],[0.7777777777777778,\"#fb9f3a\"],[0.8888888888888888,\"#fdca26\"],[1.0,\"#f0f921\"]],\"type\":\"histogram2d\"}],\"histogram2dcontour\":[{\"colorbar\":{\"outlinewidth\":0,\"ticks\":\"\"},\"colorscale\":[[0.0,\"#0d0887\"],[0.1111111111111111,\"#46039f\"],[0.2222222222222222,\"#7201a8\"],[0.3333333333333333,\"#9c179e\"],[0.4444444444444444,\"#bd3786\"],[0.5555555555555556,\"#d8576b\"],[0.6666666666666666,\"#ed7953\"],[0.7777777777777778,\"#fb9f3a\"],[0.8888888888888888,\"#fdca26\"],[1.0,\"#f0f921\"]],\"type\":\"histogram2dcontour\"}],\"mesh3d\":[{\"colorbar\":{\"outlinewidth\":0,\"ticks\":\"\"},\"type\":\"mesh3d\"}],\"parcoords\":[{\"line\":{\"colorbar\":{\"outlinewidth\":0,\"ticks\":\"\"}},\"type\":\"parcoords\"}],\"pie\":[{\"automargin\":true,\"type\":\"pie\"}],\"scatter\":[{\"marker\":{\"colorbar\":{\"outlinewidth\":0,\"ticks\":\"\"}},\"type\":\"scatter\"}],\"scatter3d\":[{\"line\":{\"colorbar\":{\"outlinewidth\":0,\"ticks\":\"\"}},\"marker\":{\"colorbar\":{\"outlinewidth\":0,\"ticks\":\"\"}},\"type\":\"scatter3d\"}],\"scattercarpet\":[{\"marker\":{\"colorbar\":{\"outlinewidth\":0,\"ticks\":\"\"}},\"type\":\"scattercarpet\"}],\"scattergeo\":[{\"marker\":{\"colorbar\":{\"outlinewidth\":0,\"ticks\":\"\"}},\"type\":\"scattergeo\"}],\"scattergl\":[{\"marker\":{\"colorbar\":{\"outlinewidth\":0,\"ticks\":\"\"}},\"type\":\"scattergl\"}],\"scattermapbox\":[{\"marker\":{\"colorbar\":{\"outlinewidth\":0,\"ticks\":\"\"}},\"type\":\"scattermapbox\"}],\"scatterpolar\":[{\"marker\":{\"colorbar\":{\"outlinewidth\":0,\"ticks\":\"\"}},\"type\":\"scatterpolar\"}],\"scatterpolargl\":[{\"marker\":{\"colorbar\":{\"outlinewidth\":0,\"ticks\":\"\"}},\"type\":\"scatterpolargl\"}],\"scatterternary\":[{\"marker\":{\"colorbar\":{\"outlinewidth\":0,\"ticks\":\"\"}},\"type\":\"scatterternary\"}],\"surface\":[{\"colorbar\":{\"outlinewidth\":0,\"ticks\":\"\"},\"colorscale\":[[0.0,\"#0d0887\"],[0.1111111111111111,\"#46039f\"],[0.2222222222222222,\"#7201a8\"],[0.3333333333333333,\"#9c179e\"],[0.4444444444444444,\"#bd3786\"],[0.5555555555555556,\"#d8576b\"],[0.6666666666666666,\"#ed7953\"],[0.7777777777777778,\"#fb9f3a\"],[0.8888888888888888,\"#fdca26\"],[1.0,\"#f0f921\"]],\"type\":\"surface\"}],\"table\":[{\"cells\":{\"fill\":{\"color\":\"#EBF0F8\"},\"line\":{\"color\":\"white\"}},\"header\":{\"fill\":{\"color\":\"#C8D4E3\"},\"line\":{\"color\":\"white\"}},\"type\":\"table\"}]},\"layout\":{\"annotationdefaults\":{\"arrowcolor\":\"#2a3f5f\",\"arrowhead\":0,\"arrowwidth\":1},\"autotypenumbers\":\"strict\",\"coloraxis\":{\"colorbar\":{\"outlinewidth\":0,\"ticks\":\"\"}},\"colorscale\":{\"diverging\":[[0,\"#8e0152\"],[0.1,\"#c51b7d\"],[0.2,\"#de77ae\"],[0.3,\"#f1b6da\"],[0.4,\"#fde0ef\"],[0.5,\"#f7f7f7\"],[0.6,\"#e6f5d0\"],[0.7,\"#b8e186\"],[0.8,\"#7fbc41\"],[0.9,\"#4d9221\"],[1,\"#276419\"]],\"sequential\":[[0.0,\"#0d0887\"],[0.1111111111111111,\"#46039f\"],[0.2222222222222222,\"#7201a8\"],[0.3333333333333333,\"#9c179e\"],[0.4444444444444444,\"#bd3786\"],[0.5555555555555556,\"#d8576b\"],[0.6666666666666666,\"#ed7953\"],[0.7777777777777778,\"#fb9f3a\"],[0.8888888888888888,\"#fdca26\"],[1.0,\"#f0f921\"]],\"sequentialminus\":[[0.0,\"#0d0887\"],[0.1111111111111111,\"#46039f\"],[0.2222222222222222,\"#7201a8\"],[0.3333333333333333,\"#9c179e\"],[0.4444444444444444,\"#bd3786\"],[0.5555555555555556,\"#d8576b\"],[0.6666666666666666,\"#ed7953\"],[0.7777777777777778,\"#fb9f3a\"],[0.8888888888888888,\"#fdca26\"],[1.0,\"#f0f921\"]]},\"colorway\":[\"#636efa\",\"#EF553B\",\"#00cc96\",\"#ab63fa\",\"#FFA15A\",\"#19d3f3\",\"#FF6692\",\"#B6E880\",\"#FF97FF\",\"#FECB52\"],\"font\":{\"color\":\"#2a3f5f\"},\"geo\":{\"bgcolor\":\"white\",\"lakecolor\":\"white\",\"landcolor\":\"#E5ECF6\",\"showlakes\":true,\"showland\":true,\"subunitcolor\":\"white\"},\"hoverlabel\":{\"align\":\"left\"},\"hovermode\":\"closest\",\"mapbox\":{\"style\":\"light\"},\"paper_bgcolor\":\"white\",\"plot_bgcolor\":\"#E5ECF6\",\"polar\":{\"angularaxis\":{\"gridcolor\":\"white\",\"linecolor\":\"white\",\"ticks\":\"\"},\"bgcolor\":\"#E5ECF6\",\"radialaxis\":{\"gridcolor\":\"white\",\"linecolor\":\"white\",\"ticks\":\"\"}},\"scene\":{\"xaxis\":{\"backgroundcolor\":\"#E5ECF6\",\"gridcolor\":\"white\",\"gridwidth\":2,\"linecolor\":\"white\",\"showbackground\":true,\"ticks\":\"\",\"zerolinecolor\":\"white\"},\"yaxis\":{\"backgroundcolor\":\"#E5ECF6\",\"gridcolor\":\"white\",\"gridwidth\":2,\"linecolor\":\"white\",\"showbackground\":true,\"ticks\":\"\",\"zerolinecolor\":\"white\"},\"zaxis\":{\"backgroundcolor\":\"#E5ECF6\",\"gridcolor\":\"white\",\"gridwidth\":2,\"linecolor\":\"white\",\"showbackground\":true,\"ticks\":\"\",\"zerolinecolor\":\"white\"}},\"shapedefaults\":{\"line\":{\"color\":\"#2a3f5f\"}},\"ternary\":{\"aaxis\":{\"gridcolor\":\"white\",\"linecolor\":\"white\",\"ticks\":\"\"},\"baxis\":{\"gridcolor\":\"white\",\"linecolor\":\"white\",\"ticks\":\"\"},\"bgcolor\":\"#E5ECF6\",\"caxis\":{\"gridcolor\":\"white\",\"linecolor\":\"white\",\"ticks\":\"\"}},\"title\":{\"x\":0.05},\"xaxis\":{\"automargin\":true,\"gridcolor\":\"white\",\"linecolor\":\"white\",\"ticks\":\"\",\"title\":{\"standoff\":15},\"zerolinecolor\":\"white\",\"zerolinewidth\":2},\"yaxis\":{\"automargin\":true,\"gridcolor\":\"white\",\"linecolor\":\"white\",\"ticks\":\"\",\"title\":{\"standoff\":15},\"zerolinecolor\":\"white\",\"zerolinewidth\":2}}},\"xaxis\":{\"anchor\":\"y\",\"domain\":[0.0,1.0],\"title\":{\"text\":\"time\"}},\"yaxis\":{\"anchor\":\"x\",\"domain\":[0.0,1.0],\"title\":{\"text\":\"close\"}},\"legend\":{\"tracegroupgap\":0},\"margin\":{\"t\":60}},                        {\"responsive\": true}                    ).then(function(){\n",
       "                            \n",
       "var gd = document.getElementById('de3de2d0-80d4-4d0c-bd1a-30175d0826f3');\n",
       "var x = new MutationObserver(function (mutations, observer) {{\n",
       "        var display = window.getComputedStyle(gd).display;\n",
       "        if (!display || display === 'none') {{\n",
       "            console.log([gd, 'removed!']);\n",
       "            Plotly.purge(gd);\n",
       "            observer.disconnect();\n",
       "        }}\n",
       "}});\n",
       "\n",
       "// Listen for the removal of the full notebook cells\n",
       "var notebookContainer = gd.closest('#notebook-container');\n",
       "if (notebookContainer) {{\n",
       "    x.observe(notebookContainer, {childList: true});\n",
       "}}\n",
       "\n",
       "// Listen for the clearing of the current output cell\n",
       "var outputEl = gd.closest('.output');\n",
       "if (outputEl) {{\n",
       "    x.observe(outputEl, {childList: true});\n",
       "}}\n",
       "\n",
       "                        })                };                });            </script>        </div>"
      ]
     },
     "metadata": {},
     "output_type": "display_data"
    }
   ],
   "source": [
    "fig = px.line(data1, x=data1['time'], y = data1['close'])\n",
    "fig.show()"
   ]
  },
  {
   "cell_type": "markdown",
   "id": "61dfef0a",
   "metadata": {},
   "source": [
    "# Train model"
   ]
  },
  {
   "cell_type": "code",
   "execution_count": 131,
   "id": "72c51012",
   "metadata": {},
   "outputs": [],
   "source": [
    "from sklearn.preprocessing import MinMaxScaler\n",
    "from tensorflow.keras.models import Sequential\n",
    "from tensorflow.keras.layers import Dense, Dropout, LSTM\n",
    "import numpy as np"
   ]
  },
  {
   "cell_type": "code",
   "execution_count": 132,
   "id": "36edc1f8",
   "metadata": {},
   "outputs": [],
   "source": [
    "scaler = MinMaxScaler(feature_range=(0,1))"
   ]
  },
  {
   "cell_type": "code",
   "execution_count": 133,
   "id": "f7c92c8c",
   "metadata": {},
   "outputs": [],
   "source": [
    "scaled_data1 = scaler.fit_transform(data1['close'].values.reshape(-1,1))\n",
    "scaled_data2 = scaler.fit_transform(data2['close'].values.reshape(-1,1))\n",
    "scaled_data3 = scaler.fit_transform(data3['close'].values.reshape(-1,1))"
   ]
  },
  {
   "cell_type": "markdown",
   "id": "9c99ce1b",
   "metadata": {},
   "source": [
    "# Stock 1"
   ]
  },
  {
   "cell_type": "code",
   "execution_count": 134,
   "id": "b0a00eb4",
   "metadata": {},
   "outputs": [],
   "source": [
    "# need change\n",
    "scaled_data = scaled_data1\n",
    "\n",
    "\n",
    "prediction_days = 60\n",
    "\n",
    "x_train = []\n",
    "y_train = []\n",
    "\n",
    "for x in range(prediction_days, len(scaled_data)):\n",
    "    x_train.append(scaled_data[x-prediction_days:x,0])\n",
    "    y_train.append(scaled_data[x,0])\n",
    "\n",
    "x_train, y_train = np.array(x_train), np.array(y_train)\n",
    "x_train = np.reshape(x_train, (x_train.shape[0], x_train.shape[1], 1))"
   ]
  },
  {
   "cell_type": "code",
   "execution_count": 135,
   "id": "0071c905",
   "metadata": {},
   "outputs": [
    {
     "name": "stdout",
     "output_type": "stream",
     "text": [
      "Epoch 1/50\n",
      "3/3 [==============================] - 6s 49ms/step - loss: 0.1274\n",
      "Epoch 2/50\n",
      "3/3 [==============================] - 0s 41ms/step - loss: 0.0301\n",
      "Epoch 3/50\n",
      "3/3 [==============================] - 0s 40ms/step - loss: 0.0344\n",
      "Epoch 4/50\n",
      "3/3 [==============================] - 0s 40ms/step - loss: 0.0174\n",
      "Epoch 5/50\n",
      "3/3 [==============================] - 0s 43ms/step - loss: 0.0221\n",
      "Epoch 6/50\n",
      "3/3 [==============================] - 0s 53ms/step - loss: 0.0199\n",
      "Epoch 7/50\n",
      "3/3 [==============================] - 0s 52ms/step - loss: 0.0147\n",
      "Epoch 8/50\n",
      "3/3 [==============================] - 0s 53ms/step - loss: 0.0165\n",
      "Epoch 9/50\n",
      "3/3 [==============================] - 0s 42ms/step - loss: 0.0155\n",
      "Epoch 10/50\n",
      "3/3 [==============================] - 0s 41ms/step - loss: 0.0139\n",
      "Epoch 11/50\n",
      "3/3 [==============================] - 0s 40ms/step - loss: 0.0140\n",
      "Epoch 12/50\n",
      "3/3 [==============================] - 0s 43ms/step - loss: 0.0137\n",
      "Epoch 13/50\n",
      "3/3 [==============================] - 0s 41ms/step - loss: 0.0125\n",
      "Epoch 14/50\n",
      "3/3 [==============================] - 0s 42ms/step - loss: 0.0124\n",
      "Epoch 15/50\n",
      "3/3 [==============================] - 0s 42ms/step - loss: 0.0120\n",
      "Epoch 16/50\n",
      "3/3 [==============================] - 0s 40ms/step - loss: 0.0116\n",
      "Epoch 17/50\n",
      "3/3 [==============================] - 0s 41ms/step - loss: 0.0114\n",
      "Epoch 18/50\n",
      "3/3 [==============================] - 0s 43ms/step - loss: 0.0112\n",
      "Epoch 19/50\n",
      "3/3 [==============================] - 0s 54ms/step - loss: 0.0112\n",
      "Epoch 20/50\n",
      "3/3 [==============================] - 0s 53ms/step - loss: 0.0109\n",
      "Epoch 21/50\n",
      "3/3 [==============================] - 0s 42ms/step - loss: 0.0108\n",
      "Epoch 22/50\n",
      "3/3 [==============================] - 0s 44ms/step - loss: 0.0106\n",
      "Epoch 23/50\n",
      "3/3 [==============================] - 0s 42ms/step - loss: 0.0105\n",
      "Epoch 24/50\n",
      "3/3 [==============================] - 0s 41ms/step - loss: 0.0106\n",
      "Epoch 25/50\n",
      "3/3 [==============================] - 0s 41ms/step - loss: 0.0104\n",
      "Epoch 26/50\n",
      "3/3 [==============================] - 0s 41ms/step - loss: 0.0105\n",
      "Epoch 27/50\n",
      "3/3 [==============================] - 0s 40ms/step - loss: 0.0102\n",
      "Epoch 28/50\n",
      "3/3 [==============================] - 0s 40ms/step - loss: 0.0103\n",
      "Epoch 29/50\n",
      "3/3 [==============================] - 0s 41ms/step - loss: 0.0100\n",
      "Epoch 30/50\n",
      "3/3 [==============================] - 0s 40ms/step - loss: 0.0099\n",
      "Epoch 31/50\n",
      "3/3 [==============================] - 0s 39ms/step - loss: 0.0099\n",
      "Epoch 32/50\n",
      "3/3 [==============================] - 0s 41ms/step - loss: 0.0098\n",
      "Epoch 33/50\n",
      "3/3 [==============================] - 0s 42ms/step - loss: 0.0100\n",
      "Epoch 34/50\n",
      "3/3 [==============================] - 0s 42ms/step - loss: 0.0095\n",
      "Epoch 35/50\n",
      "3/3 [==============================] - 0s 40ms/step - loss: 0.0095\n",
      "Epoch 36/50\n",
      "3/3 [==============================] - 0s 42ms/step - loss: 0.0092\n",
      "Epoch 37/50\n",
      "3/3 [==============================] - 0s 44ms/step - loss: 0.0092\n",
      "Epoch 38/50\n",
      "3/3 [==============================] - 0s 44ms/step - loss: 0.0089\n",
      "Epoch 39/50\n",
      "3/3 [==============================] - 0s 41ms/step - loss: 0.0088\n",
      "Epoch 40/50\n",
      "3/3 [==============================] - 0s 40ms/step - loss: 0.0088\n",
      "Epoch 41/50\n",
      "3/3 [==============================] - 0s 40ms/step - loss: 0.0086\n",
      "Epoch 42/50\n",
      "3/3 [==============================] - 0s 41ms/step - loss: 0.0083\n",
      "Epoch 43/50\n",
      "3/3 [==============================] - 0s 40ms/step - loss: 0.0083\n",
      "Epoch 44/50\n",
      "3/3 [==============================] - 0s 40ms/step - loss: 0.0081\n",
      "Epoch 45/50\n",
      "3/3 [==============================] - 0s 41ms/step - loss: 0.0081\n",
      "Epoch 46/50\n",
      "3/3 [==============================] - 0s 40ms/step - loss: 0.0077\n",
      "Epoch 47/50\n",
      "3/3 [==============================] - 0s 42ms/step - loss: 0.0073\n",
      "Epoch 48/50\n",
      "3/3 [==============================] - 0s 45ms/step - loss: 0.0071\n",
      "Epoch 49/50\n",
      "3/3 [==============================] - 0s 52ms/step - loss: 0.0071\n",
      "Epoch 50/50\n",
      "3/3 [==============================] - 0s 42ms/step - loss: 0.0069\n"
     ]
    },
    {
     "data": {
      "text/plain": [
       "<keras.callbacks.History at 0x1c1a50279d0>"
      ]
     },
     "execution_count": 135,
     "metadata": {},
     "output_type": "execute_result"
    }
   ],
   "source": [
    "model = Sequential()\n",
    "model.add(LSTM(50, return_sequences=True, input_shape=(x_train.shape[1], 1)))\n",
    "model.add(LSTM(50, return_sequences=True))\n",
    "model.add(LSTM(50))\n",
    "model.add(Dense(1))\n",
    "model.compile(loss='mean_squared_error', optimizer='adam')\n",
    "model.fit(x_train, y_train, epochs = 50, batch_size =32)"
   ]
  },
  {
   "cell_type": "code",
   "execution_count": 136,
   "id": "ad9184bd",
   "metadata": {},
   "outputs": [],
   "source": [
    "model.save(\"models/lstm/EURUSD.h5\")"
   ]
  },
  {
   "cell_type": "markdown",
   "id": "f9b6a4c7",
   "metadata": {},
   "source": [
    "# stock 2"
   ]
  },
  {
   "cell_type": "code",
   "execution_count": 137,
   "id": "22eb08a0",
   "metadata": {},
   "outputs": [],
   "source": [
    "# need change\n",
    "scaled_data = scaled_data2\n",
    "\n",
    "\n",
    "prediction_days = 60\n",
    "\n",
    "x_train = []\n",
    "y_train = []\n",
    "\n",
    "for x in range(prediction_days, len(scaled_data)):\n",
    "    x_train.append(scaled_data[x-prediction_days:x,0])\n",
    "    y_train.append(scaled_data[x,0])\n",
    "\n",
    "x_train, y_train = np.array(x_train), np.array(y_train)\n",
    "x_train = np.reshape(x_train, (x_train.shape[0], x_train.shape[1], 1))"
   ]
  },
  {
   "cell_type": "code",
   "execution_count": 138,
   "id": "2d9e01b2",
   "metadata": {},
   "outputs": [
    {
     "name": "stdout",
     "output_type": "stream",
     "text": [
      "Epoch 1/50\n",
      "3/3 [==============================] - 6s 49ms/step - loss: 0.1150\n",
      "Epoch 2/50\n",
      "3/3 [==============================] - 0s 41ms/step - loss: 0.0323\n",
      "Epoch 3/50\n",
      "3/3 [==============================] - 0s 45ms/step - loss: 0.0278\n",
      "Epoch 4/50\n",
      "3/3 [==============================] - 0s 46ms/step - loss: 0.0165\n",
      "Epoch 5/50\n",
      "3/3 [==============================] - 0s 40ms/step - loss: 0.0190\n",
      "Epoch 6/50\n",
      "3/3 [==============================] - 0s 44ms/step - loss: 0.0185\n",
      "Epoch 7/50\n",
      "3/3 [==============================] - 0s 41ms/step - loss: 0.0127\n",
      "Epoch 8/50\n",
      "3/3 [==============================] - 0s 42ms/step - loss: 0.0148\n",
      "Epoch 9/50\n",
      "3/3 [==============================] - 0s 44ms/step - loss: 0.0130\n",
      "Epoch 10/50\n",
      "3/3 [==============================] - 0s 44ms/step - loss: 0.0120\n",
      "Epoch 11/50\n",
      "3/3 [==============================] - 0s 45ms/step - loss: 0.0124\n",
      "Epoch 12/50\n",
      "3/3 [==============================] - 0s 42ms/step - loss: 0.0110\n",
      "Epoch 13/50\n",
      "3/3 [==============================] - 0s 66ms/step - loss: 0.0102\n",
      "Epoch 14/50\n",
      "3/3 [==============================] - 0s 52ms/step - loss: 0.0103\n",
      "Epoch 15/50\n",
      "3/3 [==============================] - 0s 53ms/step - loss: 0.0094\n",
      "Epoch 16/50\n",
      "3/3 [==============================] - 0s 50ms/step - loss: 0.0095\n",
      "Epoch 17/50\n",
      "3/3 [==============================] - 0s 49ms/step - loss: 0.0093\n",
      "Epoch 18/50\n",
      "3/3 [==============================] - 0s 46ms/step - loss: 0.0093\n",
      "Epoch 19/50\n",
      "3/3 [==============================] - 0s 40ms/step - loss: 0.0092\n",
      "Epoch 20/50\n",
      "3/3 [==============================] - 0s 43ms/step - loss: 0.0091\n",
      "Epoch 21/50\n",
      "3/3 [==============================] - 0s 41ms/step - loss: 0.0091\n",
      "Epoch 22/50\n",
      "3/3 [==============================] - 0s 49ms/step - loss: 0.0089\n",
      "Epoch 23/50\n",
      "3/3 [==============================] - 0s 59ms/step - loss: 0.0089\n",
      "Epoch 24/50\n",
      "3/3 [==============================] - 0s 50ms/step - loss: 0.0087\n",
      "Epoch 25/50\n",
      "3/3 [==============================] - 0s 58ms/step - loss: 0.0088\n",
      "Epoch 26/50\n",
      "3/3 [==============================] - 0s 50ms/step - loss: 0.0086\n",
      "Epoch 27/50\n",
      "3/3 [==============================] - 0s 54ms/step - loss: 0.0086\n",
      "Epoch 28/50\n",
      "3/3 [==============================] - 0s 59ms/step - loss: 0.0084\n",
      "Epoch 29/50\n",
      "3/3 [==============================] - 0s 57ms/step - loss: 0.0088\n",
      "Epoch 30/50\n",
      "3/3 [==============================] - 0s 56ms/step - loss: 0.0086\n",
      "Epoch 31/50\n",
      "3/3 [==============================] - 0s 48ms/step - loss: 0.0082\n",
      "Epoch 32/50\n",
      "3/3 [==============================] - 0s 53ms/step - loss: 0.0079\n",
      "Epoch 33/50\n",
      "3/3 [==============================] - 0s 51ms/step - loss: 0.0079\n",
      "Epoch 34/50\n",
      "3/3 [==============================] - 0s 58ms/step - loss: 0.0076\n",
      "Epoch 35/50\n",
      "3/3 [==============================] - 0s 65ms/step - loss: 0.0081\n",
      "Epoch 36/50\n",
      "3/3 [==============================] - 0s 62ms/step - loss: 0.0076\n",
      "Epoch 37/50\n",
      "3/3 [==============================] - 0s 66ms/step - loss: 0.0077\n",
      "Epoch 38/50\n",
      "3/3 [==============================] - 0s 59ms/step - loss: 0.0073\n",
      "Epoch 39/50\n",
      "3/3 [==============================] - 0s 50ms/step - loss: 0.0071\n",
      "Epoch 40/50\n",
      "3/3 [==============================] - 0s 47ms/step - loss: 0.0070\n",
      "Epoch 41/50\n",
      "3/3 [==============================] - 0s 49ms/step - loss: 0.0066\n",
      "Epoch 42/50\n",
      "3/3 [==============================] - 0s 49ms/step - loss: 0.0066\n",
      "Epoch 43/50\n",
      "3/3 [==============================] - 0s 40ms/step - loss: 0.0062\n",
      "Epoch 44/50\n",
      "3/3 [==============================] - 0s 42ms/step - loss: 0.0061\n",
      "Epoch 45/50\n",
      "3/3 [==============================] - 0s 41ms/step - loss: 0.0058\n",
      "Epoch 46/50\n",
      "3/3 [==============================] - 0s 41ms/step - loss: 0.0056\n",
      "Epoch 47/50\n",
      "3/3 [==============================] - 0s 43ms/step - loss: 0.0054\n",
      "Epoch 48/50\n",
      "3/3 [==============================] - 0s 42ms/step - loss: 0.0052\n",
      "Epoch 49/50\n",
      "3/3 [==============================] - 0s 43ms/step - loss: 0.0049\n",
      "Epoch 50/50\n",
      "3/3 [==============================] - 0s 41ms/step - loss: 0.0048\n"
     ]
    },
    {
     "data": {
      "text/plain": [
       "<keras.callbacks.History at 0x1c1aa94a850>"
      ]
     },
     "execution_count": 138,
     "metadata": {},
     "output_type": "execute_result"
    }
   ],
   "source": [
    "model = Sequential()\n",
    "model.add(LSTM(50, return_sequences=True, input_shape=(x_train.shape[1], 1)))\n",
    "model.add(LSTM(50, return_sequences=True))\n",
    "model.add(LSTM(50))\n",
    "model.add(Dense(1))\n",
    "model.compile(loss='mean_squared_error', optimizer='adam')\n",
    "model.fit(x_train, y_train, epochs = 50, batch_size =32)"
   ]
  },
  {
   "cell_type": "code",
   "execution_count": 139,
   "id": "deebd275",
   "metadata": {},
   "outputs": [],
   "source": [
    "model.save(\"models/lstm/GBPUSD.h5\")"
   ]
  },
  {
   "cell_type": "markdown",
   "id": "69e68b9d",
   "metadata": {},
   "source": [
    "# stock 3"
   ]
  },
  {
   "cell_type": "code",
   "execution_count": 140,
   "id": "3c911d92",
   "metadata": {},
   "outputs": [],
   "source": [
    "# need change\n",
    "scaled_data = scaled_data3\n",
    "\n",
    "\n",
    "prediction_days = 60\n",
    "\n",
    "x_train = []\n",
    "y_train = []\n",
    "\n",
    "for x in range(prediction_days, len(scaled_data)):\n",
    "    x_train.append(scaled_data[x-prediction_days:x,0])\n",
    "    y_train.append(scaled_data[x,0])\n",
    "\n",
    "x_train, y_train = np.array(x_train), np.array(y_train)\n",
    "x_train = np.reshape(x_train, (x_train.shape[0], x_train.shape[1], 1))"
   ]
  },
  {
   "cell_type": "code",
   "execution_count": 141,
   "id": "dfa78b68",
   "metadata": {},
   "outputs": [
    {
     "name": "stdout",
     "output_type": "stream",
     "text": [
      "Epoch 1/50\n",
      "3/3 [==============================] - 6s 58ms/step - loss: 0.3068\n",
      "Epoch 2/50\n",
      "3/3 [==============================] - 0s 44ms/step - loss: 0.1051\n",
      "Epoch 3/50\n",
      "3/3 [==============================] - 0s 43ms/step - loss: 0.0648\n",
      "Epoch 4/50\n",
      "3/3 [==============================] - 0s 43ms/step - loss: 0.0493\n",
      "Epoch 5/50\n",
      "3/3 [==============================] - 0s 43ms/step - loss: 0.0405\n",
      "Epoch 6/50\n",
      "3/3 [==============================] - 0s 41ms/step - loss: 0.0454\n",
      "Epoch 7/50\n",
      "3/3 [==============================] - 0s 41ms/step - loss: 0.0359\n",
      "Epoch 8/50\n",
      "3/3 [==============================] - 0s 42ms/step - loss: 0.0308\n",
      "Epoch 9/50\n",
      "3/3 [==============================] - 0s 41ms/step - loss: 0.0363\n",
      "Epoch 10/50\n",
      "3/3 [==============================] - 0s 56ms/step - loss: 0.0343\n",
      "Epoch 11/50\n",
      "3/3 [==============================] - 0s 54ms/step - loss: 0.0318\n",
      "Epoch 12/50\n",
      "3/3 [==============================] - 0s 48ms/step - loss: 0.0324\n",
      "Epoch 13/50\n",
      "3/3 [==============================] - 0s 47ms/step - loss: 0.0320\n",
      "Epoch 14/50\n",
      "3/3 [==============================] - 0s 41ms/step - loss: 0.0306\n",
      "Epoch 15/50\n",
      "3/3 [==============================] - 0s 45ms/step - loss: 0.0305\n",
      "Epoch 16/50\n",
      "3/3 [==============================] - 0s 43ms/step - loss: 0.0307\n",
      "Epoch 17/50\n",
      "3/3 [==============================] - 0s 42ms/step - loss: 0.0303\n",
      "Epoch 18/50\n",
      "3/3 [==============================] - 0s 44ms/step - loss: 0.0305\n",
      "Epoch 19/50\n",
      "3/3 [==============================] - 0s 47ms/step - loss: 0.0301\n",
      "Epoch 20/50\n",
      "3/3 [==============================] - 0s 42ms/step - loss: 0.0295\n",
      "Epoch 21/50\n",
      "3/3 [==============================] - 0s 51ms/step - loss: 0.0295\n",
      "Epoch 22/50\n",
      "3/3 [==============================] - 0s 57ms/step - loss: 0.0297\n",
      "Epoch 23/50\n",
      "3/3 [==============================] - 0s 51ms/step - loss: 0.0290\n",
      "Epoch 24/50\n",
      "3/3 [==============================] - 0s 41ms/step - loss: 0.0289\n",
      "Epoch 25/50\n",
      "3/3 [==============================] - 0s 42ms/step - loss: 0.0288\n",
      "Epoch 26/50\n",
      "3/3 [==============================] - 0s 41ms/step - loss: 0.0287\n",
      "Epoch 27/50\n",
      "3/3 [==============================] - 0s 43ms/step - loss: 0.0282\n",
      "Epoch 28/50\n",
      "3/3 [==============================] - 0s 42ms/step - loss: 0.0279\n",
      "Epoch 29/50\n",
      "3/3 [==============================] - 0s 42ms/step - loss: 0.0279\n",
      "Epoch 30/50\n",
      "3/3 [==============================] - 0s 42ms/step - loss: 0.0274\n",
      "Epoch 31/50\n",
      "3/3 [==============================] - 0s 41ms/step - loss: 0.0272\n",
      "Epoch 32/50\n",
      "3/3 [==============================] - 0s 55ms/step - loss: 0.0270\n",
      "Epoch 33/50\n",
      "3/3 [==============================] - 0s 58ms/step - loss: 0.0268\n",
      "Epoch 34/50\n",
      "3/3 [==============================] - 0s 54ms/step - loss: 0.0263\n",
      "Epoch 35/50\n",
      "3/3 [==============================] - 0s 44ms/step - loss: 0.0261\n",
      "Epoch 36/50\n",
      "3/3 [==============================] - 0s 43ms/step - loss: 0.0254\n",
      "Epoch 37/50\n",
      "3/3 [==============================] - 0s 42ms/step - loss: 0.0249\n",
      "Epoch 38/50\n",
      "3/3 [==============================] - 0s 41ms/step - loss: 0.0248\n",
      "Epoch 39/50\n",
      "3/3 [==============================] - 0s 42ms/step - loss: 0.0236\n",
      "Epoch 40/50\n",
      "3/3 [==============================] - 0s 41ms/step - loss: 0.0235\n",
      "Epoch 41/50\n",
      "3/3 [==============================] - 0s 42ms/step - loss: 0.0228\n",
      "Epoch 42/50\n",
      "3/3 [==============================] - 0s 57ms/step - loss: 0.0229\n",
      "Epoch 43/50\n",
      "3/3 [==============================] - 0s 50ms/step - loss: 0.0222\n",
      "Epoch 44/50\n",
      "3/3 [==============================] - 0s 45ms/step - loss: 0.0204\n",
      "Epoch 45/50\n",
      "3/3 [==============================] - 0s 44ms/step - loss: 0.0201\n",
      "Epoch 46/50\n",
      "3/3 [==============================] - 0s 42ms/step - loss: 0.0189\n",
      "Epoch 47/50\n",
      "3/3 [==============================] - 0s 44ms/step - loss: 0.0189\n",
      "Epoch 48/50\n",
      "3/3 [==============================] - 0s 42ms/step - loss: 0.0179\n",
      "Epoch 49/50\n",
      "3/3 [==============================] - 0s 43ms/step - loss: 0.0157\n",
      "Epoch 50/50\n",
      "3/3 [==============================] - 0s 41ms/step - loss: 0.0150\n"
     ]
    },
    {
     "data": {
      "text/plain": [
       "<keras.callbacks.History at 0x1c1b1c4d6a0>"
      ]
     },
     "execution_count": 141,
     "metadata": {},
     "output_type": "execute_result"
    }
   ],
   "source": [
    "model = Sequential()\n",
    "model.add(LSTM(50, return_sequences=True, input_shape=(x_train.shape[1], 1)))\n",
    "model.add(LSTM(50, return_sequences=True))\n",
    "model.add(LSTM(50))\n",
    "model.add(Dense(1))\n",
    "model.compile(loss='mean_squared_error', optimizer='adam')\n",
    "model.fit(x_train, y_train, epochs = 50, batch_size =32)"
   ]
  },
  {
   "cell_type": "code",
   "execution_count": 142,
   "id": "512d896f",
   "metadata": {},
   "outputs": [],
   "source": [
    "model.save(\"models/lstm/USDCHF.h5\")"
   ]
  },
  {
   "cell_type": "markdown",
   "id": "6a8709fc",
   "metadata": {},
   "source": [
    "# test next day"
   ]
  },
  {
   "cell_type": "code",
   "execution_count": 143,
   "id": "f6dff788",
   "metadata": {},
   "outputs": [
    {
     "name": "stdout",
     "output_type": "stream",
     "text": [
      "1/1 [==============================] - 1s 1s/step\n"
     ]
    },
    {
     "data": {
      "text/plain": [
       "array([[0.97477156]], dtype=float32)"
      ]
     },
     "execution_count": 143,
     "metadata": {},
     "output_type": "execute_result"
    }
   ],
   "source": [
    "import datetime\n",
    "from datetime import timedelta\n",
    "import matplotlib.pyplot as plt\n",
    "\n",
    "real_data = [x_train[len(x_train + 1) - prediction_days:len(x_train),0]]\n",
    "real_data = np.array(real_data)\n",
    "real_data = np.reshape(real_data, (real_data.shape[0], real_data.shape[1], 1))\n",
    "\n",
    "prediction = model.predict(real_data)\n",
    "prediction = scaler.inverse_transform(prediction)\n",
    "prediction"
   ]
  },
  {
   "cell_type": "code",
   "execution_count": 145,
   "id": "efc7ac77",
   "metadata": {},
   "outputs": [
    {
     "data": {
      "text/html": [
       "<div>\n",
       "<style scoped>\n",
       "    .dataframe tbody tr th:only-of-type {\n",
       "        vertical-align: middle;\n",
       "    }\n",
       "\n",
       "    .dataframe tbody tr th {\n",
       "        vertical-align: top;\n",
       "    }\n",
       "\n",
       "    .dataframe thead th {\n",
       "        text-align: right;\n",
       "    }\n",
       "</style>\n",
       "<table border=\"1\" class=\"dataframe\">\n",
       "  <thead>\n",
       "    <tr style=\"text-align: right;\">\n",
       "      <th></th>\n",
       "      <th>time</th>\n",
       "      <th>open</th>\n",
       "      <th>high</th>\n",
       "      <th>low</th>\n",
       "      <th>close</th>\n",
       "      <th>tick_volume</th>\n",
       "      <th>spread</th>\n",
       "      <th>real_volume</th>\n",
       "    </tr>\n",
       "  </thead>\n",
       "  <tbody>\n",
       "    <tr>\n",
       "      <th>0</th>\n",
       "      <td>1641168000</td>\n",
       "      <td>0.91106</td>\n",
       "      <td>0.92001</td>\n",
       "      <td>0.90981</td>\n",
       "      <td>0.91877</td>\n",
       "      <td>30590</td>\n",
       "      <td>0</td>\n",
       "      <td>0</td>\n",
       "    </tr>\n",
       "    <tr>\n",
       "      <th>1</th>\n",
       "      <td>1641254400</td>\n",
       "      <td>0.91874</td>\n",
       "      <td>0.91928</td>\n",
       "      <td>0.91364</td>\n",
       "      <td>0.91594</td>\n",
       "      <td>34177</td>\n",
       "      <td>0</td>\n",
       "      <td>0</td>\n",
       "    </tr>\n",
       "    <tr>\n",
       "      <th>2</th>\n",
       "      <td>1641340800</td>\n",
       "      <td>0.91594</td>\n",
       "      <td>0.91834</td>\n",
       "      <td>0.91408</td>\n",
       "      <td>0.91700</td>\n",
       "      <td>36723</td>\n",
       "      <td>0</td>\n",
       "      <td>0</td>\n",
       "    </tr>\n",
       "    <tr>\n",
       "      <th>3</th>\n",
       "      <td>1641427200</td>\n",
       "      <td>0.91700</td>\n",
       "      <td>0.92239</td>\n",
       "      <td>0.91609</td>\n",
       "      <td>0.92105</td>\n",
       "      <td>39434</td>\n",
       "      <td>0</td>\n",
       "      <td>0</td>\n",
       "    </tr>\n",
       "    <tr>\n",
       "      <th>4</th>\n",
       "      <td>1641513600</td>\n",
       "      <td>0.92098</td>\n",
       "      <td>0.92323</td>\n",
       "      <td>0.91818</td>\n",
       "      <td>0.91837</td>\n",
       "      <td>31669</td>\n",
       "      <td>0</td>\n",
       "      <td>0</td>\n",
       "    </tr>\n",
       "    <tr>\n",
       "      <th>...</th>\n",
       "      <td>...</td>\n",
       "      <td>...</td>\n",
       "      <td>...</td>\n",
       "      <td>...</td>\n",
       "      <td>...</td>\n",
       "      <td>...</td>\n",
       "      <td>...</td>\n",
       "      <td>...</td>\n",
       "    </tr>\n",
       "    <tr>\n",
       "      <th>144</th>\n",
       "      <td>1658448000</td>\n",
       "      <td>0.96654</td>\n",
       "      <td>0.97040</td>\n",
       "      <td>0.95999</td>\n",
       "      <td>0.96104</td>\n",
       "      <td>110358</td>\n",
       "      <td>0</td>\n",
       "      <td>0</td>\n",
       "    </tr>\n",
       "    <tr>\n",
       "      <th>145</th>\n",
       "      <td>1658707200</td>\n",
       "      <td>0.96251</td>\n",
       "      <td>0.96602</td>\n",
       "      <td>0.96091</td>\n",
       "      <td>0.96431</td>\n",
       "      <td>77883</td>\n",
       "      <td>0</td>\n",
       "      <td>0</td>\n",
       "    </tr>\n",
       "    <tr>\n",
       "      <th>146</th>\n",
       "      <td>1658793600</td>\n",
       "      <td>0.96424</td>\n",
       "      <td>0.96676</td>\n",
       "      <td>0.96157</td>\n",
       "      <td>0.96277</td>\n",
       "      <td>66788</td>\n",
       "      <td>0</td>\n",
       "      <td>0</td>\n",
       "    </tr>\n",
       "    <tr>\n",
       "      <th>147</th>\n",
       "      <td>1658880000</td>\n",
       "      <td>0.96268</td>\n",
       "      <td>0.96593</td>\n",
       "      <td>0.95831</td>\n",
       "      <td>0.95948</td>\n",
       "      <td>82168</td>\n",
       "      <td>0</td>\n",
       "      <td>0</td>\n",
       "    </tr>\n",
       "    <tr>\n",
       "      <th>148</th>\n",
       "      <td>1658966400</td>\n",
       "      <td>0.95917</td>\n",
       "      <td>0.95988</td>\n",
       "      <td>0.95717</td>\n",
       "      <td>0.95870</td>\n",
       "      <td>27167</td>\n",
       "      <td>0</td>\n",
       "      <td>0</td>\n",
       "    </tr>\n",
       "  </tbody>\n",
       "</table>\n",
       "<p>149 rows × 8 columns</p>\n",
       "</div>"
      ],
      "text/plain": [
       "           time     open     high      low    close  tick_volume  spread  \\\n",
       "0    1641168000  0.91106  0.92001  0.90981  0.91877        30590       0   \n",
       "1    1641254400  0.91874  0.91928  0.91364  0.91594        34177       0   \n",
       "2    1641340800  0.91594  0.91834  0.91408  0.91700        36723       0   \n",
       "3    1641427200  0.91700  0.92239  0.91609  0.92105        39434       0   \n",
       "4    1641513600  0.92098  0.92323  0.91818  0.91837        31669       0   \n",
       "..          ...      ...      ...      ...      ...          ...     ...   \n",
       "144  1658448000  0.96654  0.97040  0.95999  0.96104       110358       0   \n",
       "145  1658707200  0.96251  0.96602  0.96091  0.96431        77883       0   \n",
       "146  1658793600  0.96424  0.96676  0.96157  0.96277        66788       0   \n",
       "147  1658880000  0.96268  0.96593  0.95831  0.95948        82168       0   \n",
       "148  1658966400  0.95917  0.95988  0.95717  0.95870        27167       0   \n",
       "\n",
       "     real_volume  \n",
       "0              0  \n",
       "1              0  \n",
       "2              0  \n",
       "3              0  \n",
       "4              0  \n",
       "..           ...  \n",
       "144            0  \n",
       "145            0  \n",
       "146            0  \n",
       "147            0  \n",
       "148            0  \n",
       "\n",
       "[149 rows x 8 columns]"
      ]
     },
     "execution_count": 145,
     "metadata": {},
     "output_type": "execute_result"
    }
   ],
   "source": [
    "data3"
   ]
  },
  {
   "cell_type": "code",
   "execution_count": null,
   "id": "1c6cfe85",
   "metadata": {},
   "outputs": [],
   "source": []
  }
 ],
 "metadata": {
  "kernelspec": {
   "display_name": "Python 3 (ipykernel)",
   "language": "python",
   "name": "python3"
  },
  "language_info": {
   "codemirror_mode": {
    "name": "ipython",
    "version": 3
   },
   "file_extension": ".py",
   "mimetype": "text/x-python",
   "name": "python",
   "nbconvert_exporter": "python",
   "pygments_lexer": "ipython3",
   "version": "3.9.12"
  }
 },
 "nbformat": 4,
 "nbformat_minor": 5
}
